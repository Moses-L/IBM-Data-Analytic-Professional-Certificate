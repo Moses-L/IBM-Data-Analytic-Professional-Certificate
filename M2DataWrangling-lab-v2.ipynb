{
 "cells": [
  {
   "cell_type": "markdown",
   "metadata": {},
   "source": [
    "<p style=\"text-align:center\">\n",
    "    <a href=\"https://skills.network\" target=\"_blank\">\n",
    "    <img src=\"https://cf-courses-data.s3.us.cloud-object-storage.appdomain.cloud/assets/logos/SN_web_lightmode.png\" width=\"200\" alt=\"Skills Network Logo\"  />\n",
    "    </a>\n",
    "</p>\n"
   ]
  },
  {
   "cell_type": "markdown",
   "metadata": {},
   "source": [
    "# **Data Wrangling Lab**\n"
   ]
  },
  {
   "cell_type": "markdown",
   "metadata": {},
   "source": [
    "Estimated time needed: **45** minutes\n"
   ]
  },
  {
   "cell_type": "markdown",
   "metadata": {},
   "source": [
    "In this lab, you will perform data wrangling tasks to prepare raw data for analysis. Data wrangling involves cleaning, transforming, and organizing data into a structured format suitable for analysis. This lab focuses on tasks like identifying inconsistencies, encoding categorical variables, and feature transformation.\n"
   ]
  },
  {
   "cell_type": "markdown",
   "metadata": {},
   "source": [
    "## Objectives\n"
   ]
  },
  {
   "cell_type": "markdown",
   "metadata": {},
   "source": [
    "After completing this lab, you will be able to:\n"
   ]
  },
  {
   "cell_type": "markdown",
   "metadata": {},
   "source": [
    "- Identify and remove inconsistent data entries.\n",
    "\n",
    "- Encode categorical variables for analysis.\n",
    "\n",
    "- Handle missing values using multiple imputation strategies.\n",
    "\n",
    "- Apply feature scaling and transformation techniques.\n"
   ]
  },
  {
   "cell_type": "markdown",
   "metadata": {},
   "source": [
    "#### Intsall the required libraries\n"
   ]
  },
  {
   "cell_type": "code",
   "execution_count": 1,
   "metadata": {},
   "outputs": [
    {
     "name": "stdout",
     "output_type": "stream",
     "text": [
      "Requirement already satisfied: pandas in /opt/conda/lib/python3.12/site-packages (2.2.3)\n",
      "Requirement already satisfied: numpy>=1.26.0 in /opt/conda/lib/python3.12/site-packages (from pandas) (2.2.2)\n",
      "Requirement already satisfied: python-dateutil>=2.8.2 in /opt/conda/lib/python3.12/site-packages (from pandas) (2.9.0.post0)\n",
      "Requirement already satisfied: pytz>=2020.1 in /opt/conda/lib/python3.12/site-packages (from pandas) (2024.2)\n",
      "Requirement already satisfied: tzdata>=2022.7 in /opt/conda/lib/python3.12/site-packages (from pandas) (2025.1)\n",
      "Requirement already satisfied: six>=1.5 in /opt/conda/lib/python3.12/site-packages (from python-dateutil>=2.8.2->pandas) (1.17.0)\n",
      "Requirement already satisfied: matplotlib in /opt/conda/lib/python3.12/site-packages (3.10.0)\n",
      "Requirement already satisfied: contourpy>=1.0.1 in /opt/conda/lib/python3.12/site-packages (from matplotlib) (1.3.1)\n",
      "Requirement already satisfied: cycler>=0.10 in /opt/conda/lib/python3.12/site-packages (from matplotlib) (0.12.1)\n",
      "Requirement already satisfied: fonttools>=4.22.0 in /opt/conda/lib/python3.12/site-packages (from matplotlib) (4.55.8)\n",
      "Requirement already satisfied: kiwisolver>=1.3.1 in /opt/conda/lib/python3.12/site-packages (from matplotlib) (1.4.8)\n",
      "Requirement already satisfied: numpy>=1.23 in /opt/conda/lib/python3.12/site-packages (from matplotlib) (2.2.2)\n",
      "Requirement already satisfied: packaging>=20.0 in /opt/conda/lib/python3.12/site-packages (from matplotlib) (24.2)\n",
      "Requirement already satisfied: pillow>=8 in /opt/conda/lib/python3.12/site-packages (from matplotlib) (11.1.0)\n",
      "Requirement already satisfied: pyparsing>=2.3.1 in /opt/conda/lib/python3.12/site-packages (from matplotlib) (3.2.1)\n",
      "Requirement already satisfied: python-dateutil>=2.7 in /opt/conda/lib/python3.12/site-packages (from matplotlib) (2.9.0.post0)\n",
      "Requirement already satisfied: six>=1.5 in /opt/conda/lib/python3.12/site-packages (from python-dateutil>=2.7->matplotlib) (1.17.0)\n"
     ]
    }
   ],
   "source": [
    "!pip install pandas\n",
    "!pip install matplotlib"
   ]
  },
  {
   "cell_type": "markdown",
   "metadata": {},
   "source": [
    "## Tasks\n"
   ]
  },
  {
   "cell_type": "markdown",
   "metadata": {},
   "source": [
    "#### Step 1: Import the necessary module.\n"
   ]
  },
  {
   "cell_type": "markdown",
   "metadata": {},
   "source": [
    "### 1. Load the Dataset\n"
   ]
  },
  {
   "cell_type": "markdown",
   "metadata": {},
   "source": [
    "<h5>1.1 Import necessary libraries and load the dataset.</h5>\n"
   ]
  },
  {
   "cell_type": "markdown",
   "metadata": {},
   "source": [
    "Ensure the dataset is loaded correctly by displaying the first few rows.\n"
   ]
  },
  {
   "cell_type": "code",
   "execution_count": 2,
   "metadata": {},
   "outputs": [
    {
     "name": "stdout",
     "output_type": "stream",
     "text": [
      "   ResponseId                      MainBranch                 Age  \\\n",
      "0           1  I am a developer by profession  Under 18 years old   \n",
      "1           2  I am a developer by profession     35-44 years old   \n",
      "2           3  I am a developer by profession     45-54 years old   \n",
      "3           4           I am learning to code     18-24 years old   \n",
      "4           5  I am a developer by profession     18-24 years old   \n",
      "\n",
      "            Employment RemoteWork   Check  \\\n",
      "0  Employed, full-time     Remote  Apples   \n",
      "1  Employed, full-time     Remote  Apples   \n",
      "2  Employed, full-time     Remote  Apples   \n",
      "3   Student, full-time        NaN  Apples   \n",
      "4   Student, full-time        NaN  Apples   \n",
      "\n",
      "                                    CodingActivities  \\\n",
      "0                                              Hobby   \n",
      "1  Hobby;Contribute to open-source projects;Other...   \n",
      "2  Hobby;Contribute to open-source projects;Other...   \n",
      "3                                                NaN   \n",
      "4                                                NaN   \n",
      "\n",
      "                                             EdLevel  \\\n",
      "0                          Primary/elementary school   \n",
      "1       Bachelor’s degree (B.A., B.S., B.Eng., etc.)   \n",
      "2    Master’s degree (M.A., M.S., M.Eng., MBA, etc.)   \n",
      "3  Some college/university study without earning ...   \n",
      "4  Secondary school (e.g. American high school, G...   \n",
      "\n",
      "                                           LearnCode  \\\n",
      "0                             Books / Physical media   \n",
      "1  Books / Physical media;Colleague;On the job tr...   \n",
      "2  Books / Physical media;Colleague;On the job tr...   \n",
      "3  Other online resources (e.g., videos, blogs, f...   \n",
      "4  Other online resources (e.g., videos, blogs, f...   \n",
      "\n",
      "                                     LearnCodeOnline  ... JobSatPoints_6  \\\n",
      "0                                                NaN  ...            NaN   \n",
      "1  Technical documentation;Blogs;Books;Written Tu...  ...            0.0   \n",
      "2  Technical documentation;Blogs;Books;Written Tu...  ...            NaN   \n",
      "3  Stack Overflow;How-to videos;Interactive tutorial  ...            NaN   \n",
      "4  Technical documentation;Blogs;Written Tutorial...  ...            NaN   \n",
      "\n",
      "  JobSatPoints_7 JobSatPoints_8 JobSatPoints_9 JobSatPoints_10  \\\n",
      "0            NaN            NaN            NaN             NaN   \n",
      "1            0.0            0.0            0.0             0.0   \n",
      "2            NaN            NaN            NaN             NaN   \n",
      "3            NaN            NaN            NaN             NaN   \n",
      "4            NaN            NaN            NaN             NaN   \n",
      "\n",
      "  JobSatPoints_11           SurveyLength SurveyEase ConvertedCompYearly JobSat  \n",
      "0             NaN                    NaN        NaN                 NaN    NaN  \n",
      "1             0.0                    NaN        NaN                 NaN    NaN  \n",
      "2             NaN  Appropriate in length       Easy                 NaN    NaN  \n",
      "3             NaN               Too long       Easy                 NaN    NaN  \n",
      "4             NaN              Too short       Easy                 NaN    NaN  \n",
      "\n",
      "[5 rows x 114 columns]\n"
     ]
    }
   ],
   "source": [
    "# Import necessary libraries\n",
    "import pandas as pd\n",
    "\n",
    "# Load the Stack Overflow survey data\n",
    "dataset_url = \"https://cf-courses-data.s3.us.cloud-object-storage.appdomain.cloud/n01PQ9pSmiRX6520flujwQ/survey-data.csv\"\n",
    "df = pd.read_csv(dataset_url)\n",
    "\n",
    "# Display the first few rows\n",
    "print(df.head())\n"
   ]
  },
  {
   "cell_type": "markdown",
   "metadata": {},
   "source": [
    "#### 2. Explore the Dataset\n"
   ]
  },
  {
   "cell_type": "markdown",
   "metadata": {},
   "source": [
    "<h5>2.1 Summarize the dataset by displaying the column data types, counts, and missing values.</h5>\n"
   ]
  },
  {
   "cell_type": "code",
   "execution_count": 3,
   "metadata": {},
   "outputs": [
    {
     "name": "stdout",
     "output_type": "stream",
     "text": [
      "Column Data Types:\n",
      "ResponseId               int64\n",
      "MainBranch              object\n",
      "Age                     object\n",
      "Employment              object\n",
      "RemoteWork              object\n",
      "                        ...   \n",
      "JobSatPoints_11        float64\n",
      "SurveyLength            object\n",
      "SurveyEase              object\n",
      "ConvertedCompYearly    float64\n",
      "JobSat                 float64\n",
      "Length: 114, dtype: object\n",
      "\n",
      "Counts of Non-Missing Values:\n",
      "ResponseId             65437\n",
      "MainBranch             65437\n",
      "Age                    65437\n",
      "Employment             65437\n",
      "RemoteWork             54806\n",
      "                       ...  \n",
      "JobSatPoints_11        29445\n",
      "SurveyLength           56182\n",
      "SurveyEase             56238\n",
      "ConvertedCompYearly    23435\n",
      "JobSat                 29126\n",
      "Length: 114, dtype: int64\n",
      "\n",
      "Counts of Missing Values:\n",
      "ResponseId                 0\n",
      "MainBranch                 0\n",
      "Age                        0\n",
      "Employment                 0\n",
      "RemoteWork             10631\n",
      "                       ...  \n",
      "JobSatPoints_11        35992\n",
      "SurveyLength            9255\n",
      "SurveyEase              9199\n",
      "ConvertedCompYearly    42002\n",
      "JobSat                 36311\n",
      "Length: 114, dtype: int64\n"
     ]
    }
   ],
   "source": [
    "# Write your code here\n",
    "df = pd.read_csv(dataset_url)\n",
    "\n",
    "# Display the column data types\n",
    "print(\"Column Data Types:\")\n",
    "print(df.dtypes)\n",
    "\n",
    "# Display the counts of non-missing values for each column\n",
    "print(\"\\nCounts of Non-Missing Values:\")\n",
    "print(df.count())\n",
    "\n",
    "# Display the counts of missing values for each column\n",
    "print(\"\\nCounts of Missing Values:\")\n",
    "print(df.isnull().sum())"
   ]
  },
  {
   "cell_type": "markdown",
   "metadata": {},
   "source": [
    "<h5>2.2 Generate basic statistics for numerical columns.</h5>\n"
   ]
  },
  {
   "cell_type": "code",
   "execution_count": 4,
   "metadata": {},
   "outputs": [
    {
     "name": "stdout",
     "output_type": "stream",
     "text": [
      "Basic Statistics for Numerical Columns:\n",
      "         ResponseId      CompTotal       WorkExp  JobSatPoints_1  \\\n",
      "count  65437.000000   3.374000e+04  29658.000000    29324.000000   \n",
      "mean   32719.000000  2.963841e+145     11.466957       18.581094   \n",
      "std    18890.179119  5.444117e+147      9.168709       25.966221   \n",
      "min        1.000000   0.000000e+00      0.000000        0.000000   \n",
      "25%    16360.000000   6.000000e+04      4.000000        0.000000   \n",
      "50%    32719.000000   1.100000e+05      9.000000       10.000000   \n",
      "75%    49078.000000   2.500000e+05     16.000000       22.000000   \n",
      "max    65437.000000  1.000000e+150     50.000000      100.000000   \n",
      "\n",
      "       JobSatPoints_4  JobSatPoints_5  JobSatPoints_6  JobSatPoints_7  \\\n",
      "count    29393.000000    29411.000000    29450.000000     29448.00000   \n",
      "mean         7.522140       10.060857       24.343232        22.96522   \n",
      "std         18.422661       21.833836       27.089360        27.01774   \n",
      "min          0.000000        0.000000        0.000000         0.00000   \n",
      "25%          0.000000        0.000000        0.000000         0.00000   \n",
      "50%          0.000000        0.000000       20.000000        15.00000   \n",
      "75%          5.000000       10.000000       30.000000        30.00000   \n",
      "max        100.000000      100.000000      100.000000       100.00000   \n",
      "\n",
      "       JobSatPoints_8  JobSatPoints_9  JobSatPoints_10  JobSatPoints_11  \\\n",
      "count    29456.000000    29456.000000     29450.000000     29445.000000   \n",
      "mean        20.278165       16.169432        10.955713         9.953948   \n",
      "std         26.108110       24.845032        22.906263        21.775652   \n",
      "min          0.000000        0.000000         0.000000         0.000000   \n",
      "25%          0.000000        0.000000         0.000000         0.000000   \n",
      "50%         10.000000        5.000000         0.000000         0.000000   \n",
      "75%         25.000000       20.000000        10.000000        10.000000   \n",
      "max        100.000000      100.000000       100.000000       100.000000   \n",
      "\n",
      "       ConvertedCompYearly        JobSat  \n",
      "count         2.343500e+04  29126.000000  \n",
      "mean          8.615529e+04      6.935041  \n",
      "std           1.867570e+05      2.088259  \n",
      "min           1.000000e+00      0.000000  \n",
      "25%           3.271200e+04      6.000000  \n",
      "50%           6.500000e+04      7.000000  \n",
      "75%           1.079715e+05      8.000000  \n",
      "max           1.625660e+07     10.000000  \n"
     ]
    }
   ],
   "source": [
    "# Write your code here\n",
    "# Generate basic statistics for numerical columns\n",
    "numerical_stats = df.describe()\n",
    "print(\"Basic Statistics for Numerical Columns:\")\n",
    "print(numerical_stats)"
   ]
  },
  {
   "cell_type": "markdown",
   "metadata": {},
   "source": [
    "### 3. Identifying and Removing Inconsistencies\n"
   ]
  },
  {
   "cell_type": "markdown",
   "metadata": {},
   "source": [
    "<h5>3.1 Identify inconsistent or irrelevant entries in specific columns (e.g., Country).</h5>\n"
   ]
  },
  {
   "cell_type": "code",
   "execution_count": 5,
   "metadata": {},
   "outputs": [
    {
     "name": "stdout",
     "output_type": "stream",
     "text": [
      "Unique values in the 'Age' column:\n",
      "['Under 18 years old' '35-44 years old' '45-54 years old'\n",
      " '18-24 years old' '25-34 years old' '55-64 years old' 'Prefer not to say'\n",
      " '65 years or older']\n",
      "Outliers in the 'ConvertedCompYearly' column:\n",
      "       ResponseId                      MainBranch              Age  \\\n",
      "428           429  I am a developer by profession  25-34 years old   \n",
      "456           457  I am a developer by profession  45-54 years old   \n",
      "461           462  I am a developer by profession  45-54 years old   \n",
      "529           530  I am a developer by profession  25-34 years old   \n",
      "545           546  I am a developer by profession  35-44 years old   \n",
      "...           ...                             ...              ...   \n",
      "40952       40953  I am a developer by profession  35-44 years old   \n",
      "41000       41001  I am a developer by profession  35-44 years old   \n",
      "41001       41002  I am a developer by profession  45-54 years old   \n",
      "41027       41028  I am a developer by profession  55-64 years old   \n",
      "41187       41188  I am a developer by profession  55-64 years old   \n",
      "\n",
      "                                              Employment  \\\n",
      "428                                  Employed, full-time   \n",
      "456                                  Employed, full-time   \n",
      "461                                  Employed, full-time   \n",
      "529                                  Employed, full-time   \n",
      "545                                  Employed, full-time   \n",
      "...                                                  ...   \n",
      "40952                                Employed, full-time   \n",
      "41000                                Employed, full-time   \n",
      "41001             Employed, full-time;Student, part-time   \n",
      "41027  Independent contractor, freelancer, or self-em...   \n",
      "41187  Employed, full-time;Independent contractor, fr...   \n",
      "\n",
      "                                 RemoteWork   Check  \\\n",
      "428                                  Remote  Apples   \n",
      "456    Hybrid (some remote, some in-person)  Apples   \n",
      "461    Hybrid (some remote, some in-person)  Apples   \n",
      "529                               In-person  Apples   \n",
      "545                                  Remote  Apples   \n",
      "...                                     ...     ...   \n",
      "40952                                Remote  Apples   \n",
      "41000  Hybrid (some remote, some in-person)  Apples   \n",
      "41001  Hybrid (some remote, some in-person)  Apples   \n",
      "41027                                Remote  Apples   \n",
      "41187  Hybrid (some remote, some in-person)  Apples   \n",
      "\n",
      "                                        CodingActivities  \\\n",
      "428    Hobby;Professional development or self-paced l...   \n",
      "456                         I don’t code outside of work   \n",
      "461    Hobby;Professional development or self-paced l...   \n",
      "529                                                Hobby   \n",
      "545    Hobby;Contribute to open-source projects;Profe...   \n",
      "...                                                  ...   \n",
      "40952                                              Hobby   \n",
      "41000                       I don’t code outside of work   \n",
      "41001                            School or academic work   \n",
      "41027                       I don’t code outside of work   \n",
      "41187  Hobby;Contribute to open-source projects;Boots...   \n",
      "\n",
      "                                                 EdLevel  \\\n",
      "428         Bachelor’s degree (B.A., B.S., B.Eng., etc.)   \n",
      "456       Professional degree (JD, MD, Ph.D, Ed.D, etc.)   \n",
      "461      Master’s degree (M.A., M.S., M.Eng., MBA, etc.)   \n",
      "529         Bachelor’s degree (B.A., B.S., B.Eng., etc.)   \n",
      "545    Secondary school (e.g. American high school, G...   \n",
      "...                                                  ...   \n",
      "40952  Some college/university study without earning ...   \n",
      "41000       Bachelor’s degree (B.A., B.S., B.Eng., etc.)   \n",
      "41001       Bachelor’s degree (B.A., B.S., B.Eng., etc.)   \n",
      "41027  Some college/university study without earning ...   \n",
      "41187                                     Something else   \n",
      "\n",
      "                                               LearnCode  \\\n",
      "428    Books / Physical media;On the job training;Oth...   \n",
      "456              School (i.e., University, College, etc)   \n",
      "461    Books / Physical media;Colleague;On the job tr...   \n",
      "529    Books / Physical media;School (i.e., Universit...   \n",
      "545    Books / Physical media;Colleague;On the job tr...   \n",
      "...                                                  ...   \n",
      "40952  Books / Physical media;Colleague;Other online ...   \n",
      "41000  Colleague;On the job training;Other online res...   \n",
      "41001  Books / Physical media;Colleague;Other online ...   \n",
      "41027                            Other (please specify):   \n",
      "41187  Books / Physical media;Colleague;On the job tr...   \n",
      "\n",
      "                                         LearnCodeOnline  ... JobSatPoints_6  \\\n",
      "428    Technical documentation;Blogs;Books;Written Tu...  ...            0.0   \n",
      "456                                                  NaN  ...           10.0   \n",
      "461    Technical documentation;Blogs;Books;Written Tu...  ...           20.0   \n",
      "529                                                  NaN  ...           40.0   \n",
      "545    Technical documentation;Blogs;Books;Written Tu...  ...           30.0   \n",
      "...                                                  ...  ...            ...   \n",
      "40952       Technical documentation;Blogs;Stack Overflow  ...            NaN   \n",
      "41000  Technical documentation;Blogs;Written Tutorial...  ...           60.0   \n",
      "41001  Technical documentation;Books;Written Tutorial...  ...            NaN   \n",
      "41027                                                NaN  ...            0.0   \n",
      "41187  Technical documentation;Books;Written Tutorial...  ...           25.0   \n",
      "\n",
      "      JobSatPoints_7 JobSatPoints_8 JobSatPoints_9 JobSatPoints_10  \\\n",
      "428              0.0            0.0           25.0            25.0   \n",
      "456             10.0            0.0            0.0             0.0   \n",
      "461             50.0            0.0           10.0            10.0   \n",
      "529             20.0            0.0           30.0            10.0   \n",
      "545              5.0            5.0           10.0             0.0   \n",
      "...              ...            ...            ...             ...   \n",
      "40952            NaN            NaN            NaN             NaN   \n",
      "41000           50.0            0.0           80.0            50.0   \n",
      "41001            NaN            NaN            NaN             NaN   \n",
      "41027            0.0            0.0            0.0             0.0   \n",
      "41187           10.0           10.0           10.0             5.0   \n",
      "\n",
      "      JobSatPoints_11           SurveyLength                  SurveyEase  \\\n",
      "428              25.0  Appropriate in length  Neither easy nor difficult   \n",
      "456               0.0  Appropriate in length  Neither easy nor difficult   \n",
      "461               0.0  Appropriate in length  Neither easy nor difficult   \n",
      "529               0.0  Appropriate in length                        Easy   \n",
      "545               0.0  Appropriate in length                        Easy   \n",
      "...               ...                    ...                         ...   \n",
      "40952             NaN  Appropriate in length                        Easy   \n",
      "41000             0.0               Too long  Neither easy nor difficult   \n",
      "41001             NaN  Appropriate in length                        Easy   \n",
      "41027             0.0  Appropriate in length  Neither easy nor difficult   \n",
      "41187             5.0  Appropriate in length  Neither easy nor difficult   \n",
      "\n",
      "      ConvertedCompYearly JobSat  \n",
      "428              230000.0    8.0  \n",
      "456              300000.0    1.0  \n",
      "461              254425.0    7.0  \n",
      "529              650000.0    6.0  \n",
      "545              400000.0    8.0  \n",
      "...                   ...    ...  \n",
      "40952            750000.0    NaN  \n",
      "41000            235000.0    6.0  \n",
      "41001            260000.0    NaN  \n",
      "41027            700000.0   10.0  \n",
      "41187            222834.0   10.0  \n",
      "\n",
      "[978 rows x 114 columns]\n",
      "Invalid entries in the 'RemoteWork' column:\n",
      "       ResponseId                      MainBranch                 Age  \\\n",
      "3               4           I am learning to code     18-24 years old   \n",
      "4               5  I am a developer by profession     18-24 years old   \n",
      "5               6     I code primarily as a hobby  Under 18 years old   \n",
      "7               8           I am learning to code     18-24 years old   \n",
      "8               9     I code primarily as a hobby     45-54 years old   \n",
      "...           ...                             ...                 ...   \n",
      "65430       65431           I am learning to code     18-24 years old   \n",
      "65431       65432  I am a developer by profession     45-54 years old   \n",
      "65434       65435  I am a developer by profession     25-34 years old   \n",
      "65435       65436  I am a developer by profession     18-24 years old   \n",
      "65436       65437     I code primarily as a hobby     18-24 years old   \n",
      "\n",
      "                                              Employment  \\\n",
      "3                                     Student, full-time   \n",
      "4                                     Student, full-time   \n",
      "5                                     Student, full-time   \n",
      "7      Student, full-time;Not employed, but looking f...   \n",
      "8                                    Employed, full-time   \n",
      "...                                                  ...   \n",
      "65430  Not employed, but looking for work;Employed, p...   \n",
      "65431                                Employed, full-time   \n",
      "65434                                Employed, full-time   \n",
      "65435                                Employed, full-time   \n",
      "65436                                 Student, full-time   \n",
      "\n",
      "                                 RemoteWork   Check  \\\n",
      "3                                       NaN  Apples   \n",
      "4                                       NaN  Apples   \n",
      "5                                       NaN  Apples   \n",
      "7                                       NaN  Apples   \n",
      "8                                 In-person  Apples   \n",
      "...                                     ...     ...   \n",
      "65430                             In-person  Apples   \n",
      "65431  Hybrid (some remote, some in-person)  Apples   \n",
      "65434                             In-person  Apples   \n",
      "65435  Hybrid (some remote, some in-person)  Apples   \n",
      "65436                                   NaN  Apples   \n",
      "\n",
      "                                        CodingActivities  \\\n",
      "3                                                    NaN   \n",
      "4                                                    NaN   \n",
      "5                                                    NaN   \n",
      "7                                                    NaN   \n",
      "8                                                  Hobby   \n",
      "...                                                  ...   \n",
      "65430  Hobby;Professional development or self-paced l...   \n",
      "65431  Hobby;Contribute to open-source projects;Profe...   \n",
      "65434                                              Hobby   \n",
      "65435  Hobby;Contribute to open-source projects;Profe...   \n",
      "65436                                                NaN   \n",
      "\n",
      "                                                 EdLevel  \\\n",
      "3      Some college/university study without earning ...   \n",
      "4      Secondary school (e.g. American high school, G...   \n",
      "5                              Primary/elementary school   \n",
      "7      Secondary school (e.g. American high school, G...   \n",
      "8         Professional degree (JD, MD, Ph.D, Ed.D, etc.)   \n",
      "...                                                  ...   \n",
      "65430                                                NaN   \n",
      "65431       Bachelor’s degree (B.A., B.S., B.Eng., etc.)   \n",
      "65434       Bachelor’s degree (B.A., B.S., B.Eng., etc.)   \n",
      "65435  Secondary school (e.g. American high school, G...   \n",
      "65436                                                NaN   \n",
      "\n",
      "                                               LearnCode  \\\n",
      "3      Other online resources (e.g., videos, blogs, f...   \n",
      "4      Other online resources (e.g., videos, blogs, f...   \n",
      "5      School (i.e., University, College, etc);Online...   \n",
      "7      Other online resources (e.g., videos, blogs, f...   \n",
      "8      Books / Physical media;Other online resources ...   \n",
      "...                                                  ...   \n",
      "65430                                                NaN   \n",
      "65431  Books / Physical media;Colleague;On the job tr...   \n",
      "65434  Other online resources (e.g., videos, blogs, f...   \n",
      "65435  On the job training;Other online resources (e....   \n",
      "65436                                                NaN   \n",
      "\n",
      "                                         LearnCodeOnline  ... JobSatPoints_6  \\\n",
      "3      Stack Overflow;How-to videos;Interactive tutorial  ...            NaN   \n",
      "4      Technical documentation;Blogs;Written Tutorial...  ...            NaN   \n",
      "5                                                    NaN  ...            NaN   \n",
      "7      Technical documentation;Video-based Online Cou...  ...            NaN   \n",
      "8            Stack Overflow;Written-based Online Courses  ...            NaN   \n",
      "...                                                  ...  ...            ...   \n",
      "65430                                                NaN  ...            NaN   \n",
      "65431  Technical documentation;Blogs;Books;Written Tu...  ...            NaN   \n",
      "65434  Technical documentation;Stack Overflow;Social ...  ...            NaN   \n",
      "65435  Technical documentation;Blogs;Written Tutorial...  ...            0.0   \n",
      "65436                                                NaN  ...            NaN   \n",
      "\n",
      "      JobSatPoints_7 JobSatPoints_8 JobSatPoints_9 JobSatPoints_10  \\\n",
      "3                NaN            NaN            NaN             NaN   \n",
      "4                NaN            NaN            NaN             NaN   \n",
      "5                NaN            NaN            NaN             NaN   \n",
      "7                NaN            NaN            NaN             NaN   \n",
      "8                NaN            NaN            NaN             NaN   \n",
      "...              ...            ...            ...             ...   \n",
      "65430            NaN            NaN            NaN             NaN   \n",
      "65431            NaN            NaN            NaN             NaN   \n",
      "65434            NaN            NaN            NaN             NaN   \n",
      "65435            0.0            0.0            0.0             0.0   \n",
      "65436            NaN            NaN            NaN             NaN   \n",
      "\n",
      "      JobSatPoints_11           SurveyLength                  SurveyEase  \\\n",
      "3                 NaN               Too long                        Easy   \n",
      "4                 NaN              Too short                        Easy   \n",
      "5                 NaN  Appropriate in length                        Easy   \n",
      "7                 NaN  Appropriate in length                   Difficult   \n",
      "8                 NaN  Appropriate in length  Neither easy nor difficult   \n",
      "...               ...                    ...                         ...   \n",
      "65430             NaN                    NaN                         NaN   \n",
      "65431             NaN                    NaN                         NaN   \n",
      "65434             NaN                    NaN                         NaN   \n",
      "65435             0.0                    NaN                         NaN   \n",
      "65436             NaN                    NaN                         NaN   \n",
      "\n",
      "      ConvertedCompYearly JobSat  \n",
      "3                     NaN    NaN  \n",
      "4                     NaN    NaN  \n",
      "5                     NaN    NaN  \n",
      "7                     NaN    NaN  \n",
      "8                     NaN    NaN  \n",
      "...                   ...    ...  \n",
      "65430                 NaN    NaN  \n",
      "65431                 NaN    NaN  \n",
      "65434                 NaN    NaN  \n",
      "65435                 NaN    NaN  \n",
      "65436                 NaN    NaN  \n",
      "\n",
      "[44606 rows x 114 columns]\n"
     ]
    }
   ],
   "source": [
    "# Write your code here\n",
    "# Example: Identify inconsistent or irrelevant entries in the 'Age' column\n",
    "# Display unique values in the 'Age' column\n",
    "unique_ages = df['Age'].unique()\n",
    "print(\"Unique values in the 'Age' column:\")\n",
    "print(unique_ages)\n",
    "\n",
    "# Example: Identify outliers in the 'ConvertedCompYearly' column\n",
    "# Calculate the interquartile range (IQR)\n",
    "Q1 = df['ConvertedCompYearly'].quantile(0.25)\n",
    "Q3 = df['ConvertedCompYearly'].quantile(0.75)\n",
    "IQR = Q3 - Q1\n",
    "\n",
    "# Define the lower and upper bounds for outliers\n",
    "lower_bound = Q1 - 1.5 * IQR\n",
    "upper_bound = Q3 + 1.5 * IQR\n",
    "\n",
    "# Identify outliers\n",
    "outliers = df[(df['ConvertedCompYearly'] < lower_bound) | (df['ConvertedCompYearly'] > upper_bound)]\n",
    "print(\"Outliers in the 'ConvertedCompYearly' column:\")\n",
    "print(outliers)\n",
    "\n",
    "# Example: Validate data against expected formats or ranges\n",
    "# Check for invalid entries in the 'RemoteWork' column\n",
    "valid_remote_work_values = ['Remote', 'Hybrid', 'On-site']\n",
    "invalid_remote_work_entries = df[~df['RemoteWork'].isin(valid_remote_work_values)]\n",
    "print(\"Invalid entries in the 'RemoteWork' column:\")\n",
    "print(invalid_remote_work_entries)"
   ]
  },
  {
   "cell_type": "markdown",
   "metadata": {},
   "source": [
    "<h5>3.2 Standardize entries in columns like Country or EdLevel by mapping inconsistent values to a consistent format.</h5>\n"
   ]
  },
  {
   "cell_type": "code",
   "execution_count": 6,
   "metadata": {},
   "outputs": [
    {
     "name": "stdout",
     "output_type": "stream",
     "text": [
      "                                             Country  \\\n",
      "0                                                USA   \n",
      "1  United Kingdom of Great Britain and Northern I...   \n",
      "2  United Kingdom of Great Britain and Northern I...   \n",
      "3                                             Canada   \n",
      "4                                             Norway   \n",
      "\n",
      "                                             EdLevel  \n",
      "0                                            Primary  \n",
      "1                                           Bachelor  \n",
      "2                                             Master  \n",
      "3  Some college/university study without earning ...  \n",
      "4                                          Secondary  \n"
     ]
    }
   ],
   "source": [
    "## Write your code here\n",
    "# Define mappings for standardizing Country and EdLevel columns\n",
    "country_mapping = {\n",
    "    'United States': 'USA',\n",
    "    'United States of America': 'USA',\n",
    "    'US': 'USA',\n",
    "    'India': 'IND',\n",
    "    'Republic of India': 'IND',\n",
    "    # Add more mappings as needed\n",
    "}\n",
    "\n",
    "edlevel_mapping = {\n",
    "    'Primary/elementary school': 'Primary',\n",
    "    'Secondary school (e.g. American high school, German Realschule or Gymnasium, etc.)': 'Secondary',\n",
    "    'Bachelor’s degree (B.A., B.S., B.Eng., etc.)': 'Bachelor',\n",
    "    'Master’s degree (M.A., M.S., M.Eng., MBA, etc.)': 'Master',\n",
    "    'Doctoral degree (Ph.D., Ed.D., etc.)': 'Doctorate',\n",
    "    # Add more mappings as needed\n",
    "}\n",
    "\n",
    "# Apply the mappings to standardize the columns\n",
    "df['Country'] = df['Country'].map(country_mapping).fillna(df['Country'])\n",
    "df['EdLevel'] = df['EdLevel'].map(edlevel_mapping).fillna(df['EdLevel'])\n",
    "\n",
    "# Display the first few rows of the standardized dataframe\n",
    "print(df[['Country', 'EdLevel']].head())"
   ]
  },
  {
   "cell_type": "markdown",
   "metadata": {},
   "source": [
    "### 4. Encoding Categorical Variables\n"
   ]
  },
  {
   "cell_type": "markdown",
   "metadata": {},
   "source": [
    "<h5>4.1 Encode the Employment column using one-hot encoding.</h5>\n"
   ]
  },
  {
   "cell_type": "code",
   "execution_count": 8,
   "metadata": {},
   "outputs": [
    {
     "name": "stdout",
     "output_type": "stream",
     "text": [
      "   ResponseId                      MainBranch                 Age RemoteWork  \\\n",
      "0           1  I am a developer by profession  Under 18 years old     Remote   \n",
      "1           2  I am a developer by profession     35-44 years old     Remote   \n",
      "2           3  I am a developer by profession     45-54 years old     Remote   \n",
      "3           4           I am learning to code     18-24 years old        NaN   \n",
      "4           5  I am a developer by profession     18-24 years old        NaN   \n",
      "\n",
      "    Check                                   CodingActivities  \\\n",
      "0  Apples                                              Hobby   \n",
      "1  Apples  Hobby;Contribute to open-source projects;Other...   \n",
      "2  Apples  Hobby;Contribute to open-source projects;Other...   \n",
      "3  Apples                                                NaN   \n",
      "4  Apples                                                NaN   \n",
      "\n",
      "                                             EdLevel  \\\n",
      "0                                            Primary   \n",
      "1                                           Bachelor   \n",
      "2                                             Master   \n",
      "3  Some college/university study without earning ...   \n",
      "4                                          Secondary   \n",
      "\n",
      "                                           LearnCode  \\\n",
      "0                             Books / Physical media   \n",
      "1  Books / Physical media;Colleague;On the job tr...   \n",
      "2  Books / Physical media;Colleague;On the job tr...   \n",
      "3  Other online resources (e.g., videos, blogs, f...   \n",
      "4  Other online resources (e.g., videos, blogs, f...   \n",
      "\n",
      "                                     LearnCodeOnline  \\\n",
      "0                                                NaN   \n",
      "1  Technical documentation;Blogs;Books;Written Tu...   \n",
      "2  Technical documentation;Blogs;Books;Written Tu...   \n",
      "3  Stack Overflow;How-to videos;Interactive tutorial   \n",
      "4  Technical documentation;Blogs;Written Tutorial...   \n",
      "\n",
      "                                             TechDoc  ...  \\\n",
      "0                                                NaN  ...   \n",
      "1  API document(s) and/or SDK document(s);User gu...  ...   \n",
      "2  API document(s) and/or SDK document(s);User gu...  ...   \n",
      "3                                                NaN  ...   \n",
      "4  API document(s) and/or SDK document(s);User gu...  ...   \n",
      "\n",
      "  Employment_Student, full-time;Not employed, but looking for work;Not employed, and not looking for work;Student, part-time  \\\n",
      "0                                              False                                                                           \n",
      "1                                              False                                                                           \n",
      "2                                              False                                                                           \n",
      "3                                              False                                                                           \n",
      "4                                              False                                                                           \n",
      "\n",
      "  Employment_Student, full-time;Not employed, but looking for work;Retired  \\\n",
      "0                                              False                         \n",
      "1                                              False                         \n",
      "2                                              False                         \n",
      "3                                              False                         \n",
      "4                                              False                         \n",
      "\n",
      "  Employment_Student, full-time;Not employed, but looking for work;Student, part-time  \\\n",
      "0                                              False                                    \n",
      "1                                              False                                    \n",
      "2                                              False                                    \n",
      "3                                              False                                    \n",
      "4                                              False                                    \n",
      "\n",
      "  Employment_Student, full-time;Retired  \\\n",
      "0                                 False   \n",
      "1                                 False   \n",
      "2                                 False   \n",
      "3                                 False   \n",
      "4                                 False   \n",
      "\n",
      "  Employment_Student, full-time;Student, part-time  \\\n",
      "0                                            False   \n",
      "1                                            False   \n",
      "2                                            False   \n",
      "3                                            False   \n",
      "4                                            False   \n",
      "\n",
      "  Employment_Student, full-time;Student, part-time;Employed, part-time  \\\n",
      "0                                              False                     \n",
      "1                                              False                     \n",
      "2                                              False                     \n",
      "3                                              False                     \n",
      "4                                              False                     \n",
      "\n",
      "  Employment_Student, full-time;Student, part-time;Retired  \\\n",
      "0                                              False         \n",
      "1                                              False         \n",
      "2                                              False         \n",
      "3                                              False         \n",
      "4                                              False         \n",
      "\n",
      "  Employment_Student, part-time  \\\n",
      "0                         False   \n",
      "1                         False   \n",
      "2                         False   \n",
      "3                         False   \n",
      "4                         False   \n",
      "\n",
      "  Employment_Student, part-time;Employed, part-time  \\\n",
      "0                                             False   \n",
      "1                                             False   \n",
      "2                                             False   \n",
      "3                                             False   \n",
      "4                                             False   \n",
      "\n",
      "  Employment_Student, part-time;Retired  \n",
      "0                                 False  \n",
      "1                                 False  \n",
      "2                                 False  \n",
      "3                                 False  \n",
      "4                                 False  \n",
      "\n",
      "[5 rows x 223 columns]\n"
     ]
    }
   ],
   "source": [
    "## Write your code here\n",
    "# Perform one-hot encoding on the Employment column\n",
    "df_encoded = pd.get_dummies(df, columns=['Employment'])\n",
    "\n",
    "# Display the first few rows of the encoded dataframe\n",
    "print(df_encoded.head())"
   ]
  },
  {
   "cell_type": "markdown",
   "metadata": {},
   "source": [
    "### 5. Handling Missing Values\n"
   ]
  },
  {
   "cell_type": "markdown",
   "metadata": {},
   "source": [
    "<h5>5.1 Identify columns with the highest number of missing values.</h5>\n"
   ]
  },
  {
   "cell_type": "code",
   "execution_count": 9,
   "metadata": {},
   "outputs": [
    {
     "name": "stdout",
     "output_type": "stream",
     "text": [
      "Columns with the highest number of missing values:\n",
      "AINextMuch less integrated    64289\n",
      "AINextLess integrated         63082\n",
      "AINextNo change               52939\n",
      "AINextMuch more integrated    51999\n",
      "EmbeddedAdmired               48704\n",
      "dtype: int64\n"
     ]
    }
   ],
   "source": [
    "## Write your code here\n",
    "# Identify columns with the highest number of missing values\n",
    "missing_values = df.isnull().sum()\n",
    "missing_values_sorted = missing_values.sort_values(ascending=False)\n",
    "print(\"Columns with the highest number of missing values:\")\n",
    "print(missing_values_sorted.head())"
   ]
  },
  {
   "cell_type": "markdown",
   "metadata": {},
   "source": [
    "<h5>5.2 Impute missing values in numerical columns (e.g., `ConvertedCompYearly`) with the mean or median.</h5>\n"
   ]
  },
  {
   "cell_type": "code",
   "execution_count": 10,
   "metadata": {},
   "outputs": [
    {
     "name": "stdout",
     "output_type": "stream",
     "text": [
      "   ConvertedCompYearly\n",
      "0              65000.0\n",
      "1              65000.0\n",
      "2              65000.0\n",
      "3              65000.0\n",
      "4              65000.0\n"
     ]
    },
    {
     "name": "stderr",
     "output_type": "stream",
     "text": [
      "/tmp/ipykernel_1919/3457453940.py:3: FutureWarning: A value is trying to be set on a copy of a DataFrame or Series through chained assignment using an inplace method.\n",
      "The behavior will change in pandas 3.0. This inplace method will never work because the intermediate object on which we are setting values always behaves as a copy.\n",
      "\n",
      "For example, when doing 'df[col].method(value, inplace=True)', try using 'df.method({col: value}, inplace=True)' or df[col] = df[col].method(value) instead, to perform the operation inplace on the original object.\n",
      "\n",
      "\n",
      "  df['ConvertedCompYearly'].fillna(df['ConvertedCompYearly'].median(), inplace=True)\n"
     ]
    }
   ],
   "source": [
    "## Write your code here\n",
    "# Impute missing values in the 'ConvertedCompYearly' column with the median\n",
    "df['ConvertedCompYearly'].fillna(df['ConvertedCompYearly'].median(), inplace=True)\n",
    "\n",
    "# Alternatively, you can impute missing values with the mean\n",
    "# df['ConvertedCompYearly'].fillna(df['ConvertedCompYearly'].mean(), inplace=True)\n",
    "\n",
    "# Display the first few rows of the dataframe to verify the imputation\n",
    "print(df[['ConvertedCompYearly']].head())"
   ]
  },
  {
   "cell_type": "markdown",
   "metadata": {},
   "source": [
    "<h5>5.3 Impute missing values in categorical columns (e.g., `RemoteWork`) with the most frequent value.</h5>\n"
   ]
  },
  {
   "cell_type": "code",
   "execution_count": 11,
   "metadata": {},
   "outputs": [
    {
     "name": "stdout",
     "output_type": "stream",
     "text": [
      "                             RemoteWork\n",
      "0                                Remote\n",
      "1                                Remote\n",
      "2                                Remote\n",
      "3  Hybrid (some remote, some in-person)\n",
      "4  Hybrid (some remote, some in-person)\n"
     ]
    },
    {
     "name": "stderr",
     "output_type": "stream",
     "text": [
      "/tmp/ipykernel_1919/152936872.py:6: FutureWarning: A value is trying to be set on a copy of a DataFrame or Series through chained assignment using an inplace method.\n",
      "The behavior will change in pandas 3.0. This inplace method will never work because the intermediate object on which we are setting values always behaves as a copy.\n",
      "\n",
      "For example, when doing 'df[col].method(value, inplace=True)', try using 'df.method({col: value}, inplace=True)' or df[col] = df[col].method(value) instead, to perform the operation inplace on the original object.\n",
      "\n",
      "\n",
      "  df['RemoteWork'].fillna(most_frequent_value, inplace=True)\n"
     ]
    }
   ],
   "source": [
    "## Write your code here\n",
    "# Identify the most frequent value in the 'RemoteWork' column\n",
    "most_frequent_value = df['RemoteWork'].mode()[0]\n",
    "\n",
    "# Impute missing values in the 'RemoteWork' column with the most frequent value\n",
    "df['RemoteWork'].fillna(most_frequent_value, inplace=True)\n",
    "\n",
    "# Display the first few rows of the dataframe to verify the imputation\n",
    "print(df[['RemoteWork']].head())"
   ]
  },
  {
   "cell_type": "markdown",
   "metadata": {},
   "source": [
    "### 6. Feature Scaling and Transformation\n"
   ]
  },
  {
   "cell_type": "markdown",
   "metadata": {},
   "source": [
    "<h5>6.1 Apply Min-Max Scaling to normalize the `ConvertedCompYearly` column.</h5>\n"
   ]
  },
  {
   "cell_type": "code",
   "execution_count": 13,
   "metadata": {},
   "outputs": [
    {
     "name": "stdout",
     "output_type": "stream",
     "text": [
      "   ConvertedCompYearly  ConvertedCompYearly_MinMax\n",
      "0              65000.0                    0.003998\n",
      "1              65000.0                    0.003998\n",
      "2              65000.0                    0.003998\n",
      "3              65000.0                    0.003998\n",
      "4              65000.0                    0.003998\n"
     ]
    }
   ],
   "source": [
    "import pandas as pd\n",
    "from sklearn.preprocessing import MinMaxScaler\n",
    "\n",
    "# Initialize the Min-Max Scaler\n",
    "scaler = MinMaxScaler()\n",
    "\n",
    "# Apply Min-Max Scaling to the ConvertedCompYearly column\n",
    "df['ConvertedCompYearly_MinMax'] = scaler.fit_transform(df[['ConvertedCompYearly']])\n",
    "\n",
    "# Display the first few rows of the dataframe to verify the normalization\n",
    "print(df[['ConvertedCompYearly', 'ConvertedCompYearly_MinMax']].head())"
   ]
  },
  {
   "cell_type": "markdown",
   "metadata": {},
   "source": [
    "<h5>6.2 Log-transform the ConvertedCompYearly column to reduce skewness.</h5>\n"
   ]
  },
  {
   "cell_type": "code",
   "execution_count": 15,
   "metadata": {},
   "outputs": [
    {
     "name": "stdout",
     "output_type": "stream",
     "text": [
      "   ConvertedCompYearly  ConvertedCompYearly_Log\n",
      "0              65000.0                11.082158\n",
      "1              65000.0                11.082158\n",
      "2              65000.0                11.082158\n",
      "3              65000.0                11.082158\n",
      "4              65000.0                11.082158\n"
     ]
    }
   ],
   "source": [
    "import pandas as pd\n",
    "import numpy as np\n",
    "\n",
    "# Apply log transformation to the ConvertedCompYearly column\n",
    "df['ConvertedCompYearly_Log'] = np.log(df['ConvertedCompYearly'] + 1)  # Adding 1 to avoid log(0)\n",
    "\n",
    "# Display the first few rows of the dataframe to verify the transformation\n",
    "print(df[['ConvertedCompYearly', 'ConvertedCompYearly_Log']].head())\n"
   ]
  },
  {
   "cell_type": "markdown",
   "metadata": {},
   "source": [
    "### 7. Feature Engineering\n"
   ]
  },
  {
   "cell_type": "markdown",
   "metadata": {},
   "source": [
    "<h5>7.1 Create a new column `ExperienceLevel` based on the `YearsCodePro` column:</h5>\n"
   ]
  },
  {
   "cell_type": "code",
   "execution_count": 17,
   "metadata": {},
   "outputs": [
    {
     "name": "stdout",
     "output_type": "stream",
     "text": [
      "  YearsCodePro  YearsCodeProNumeric ExperienceLevel\n",
      "0          NaN                  NaN          Expert\n",
      "1           17                 17.0          Expert\n",
      "2           27                 27.0          Expert\n",
      "3          NaN                  NaN          Expert\n",
      "4          NaN                  NaN          Expert\n"
     ]
    }
   ],
   "source": [
    "## Write your code here\n",
    "import pandas as pd\n",
    "\n",
    "# Define a function to convert YearsCodePro to numeric values\n",
    "def convert_years_code_pro(years):\n",
    "    if years == 'Less than 1 year':\n",
    "        return 0.5\n",
    "    elif years == 'More than 50 years':\n",
    "        return 51\n",
    "    else:\n",
    "        try:\n",
    "            return float(years)\n",
    "        except ValueError:\n",
    "            return None\n",
    "\n",
    "# Apply the conversion function to the YearsCodePro column\n",
    "df['YearsCodeProNumeric'] = df['YearsCodePro'].apply(convert_years_code_pro)\n",
    "\n",
    "# Define a function to categorize experience levels\n",
    "def categorize_experience(years):\n",
    "    if years is None:\n",
    "        return 'Unknown'\n",
    "    elif years < 1:\n",
    "        return 'Beginner'\n",
    "    elif 1 <= years < 3:\n",
    "        return 'Junior'\n",
    "    elif 3 <= years < 5:\n",
    "        return 'Mid-level'\n",
    "    elif 5 <= years < 10:\n",
    "        return 'Senior'\n",
    "    else:\n",
    "        return 'Expert'\n",
    "\n",
    "# Apply the function to the YearsCodeProNumeric column to create the ExperienceLevel column\n",
    "df['ExperienceLevel'] = df['YearsCodeProNumeric'].apply(categorize_experience)\n",
    "\n",
    "# Display the first few rows of the dataframe to verify the new column\n",
    "print(df[['YearsCodePro', 'YearsCodeProNumeric', 'ExperienceLevel']].head())\n"
   ]
  },
  {
   "cell_type": "markdown",
   "metadata": {},
   "source": [
    "### Summary\n"
   ]
  },
  {
   "cell_type": "markdown",
   "metadata": {},
   "source": [
    "In this lab, you:\n",
    "\n",
    "- Explored the dataset to identify inconsistencies and missing values.\n",
    "\n",
    "- Encoded categorical variables for analysis.\n",
    "\n",
    "- Handled missing values using imputation techniques.\n",
    "\n",
    "- Normalized and transformed numerical data to prepare it for analysis.\n",
    "\n",
    "- Engineered a new feature to enhance data interpretation.\n"
   ]
  },
  {
   "cell_type": "markdown",
   "metadata": {},
   "source": [
    "Copyright © IBM Corporation. All rights reserved.\n"
   ]
  }
 ],
 "metadata": {
  "kernelspec": {
   "display_name": "Python 3 (ipykernel)",
   "language": "python",
   "name": "python3"
  },
  "language_info": {
   "codemirror_mode": {
    "name": "ipython",
    "version": 3
   },
   "file_extension": ".py",
   "mimetype": "text/x-python",
   "name": "python",
   "nbconvert_exporter": "python",
   "pygments_lexer": "ipython3",
   "version": "3.12.8"
  },
  "prev_pub_hash": "1e8e234f19fd098e27b0518a87f18de690e1c51f1d3263d5690927d19971251e"
 },
 "nbformat": 4,
 "nbformat_minor": 4
}
